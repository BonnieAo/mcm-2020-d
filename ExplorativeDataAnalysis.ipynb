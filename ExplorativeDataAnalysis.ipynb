{
 "cells": [
  {
   "cell_type": "markdown",
   "metadata": {},
   "source": [
    "# Software Dependencies"
   ]
  },
  {
   "cell_type": "markdown",
   "metadata": {},
   "source": [
    "- pandas: `pip install pandas`\n",
    "- numpy: `pip install numpy`\n",
    "- matplotlib: `pip install matplotlib`\n",
    "- graph-tool: `conda install -c conda-forge graph-tool` ([doc](https://git.skewed.de/count0/graph-tool/-/wikis/installation-instructions))"
   ]
  },
  {
   "cell_type": "markdown",
   "metadata": {},
   "source": [
    "# Data Descriptions"
   ]
  },
  {
   "cell_type": "markdown",
   "metadata": {},
   "source": [
    "1) `matches.csv`\n",
    "\n",
    "- `MatchID`: A unqiue identifier for each match played during the season, and reflects the order of the match in the season.\n",
    "- `OpponentID`: A unqiue identifier for the opposing team played in the match. **Note that the Huskies play each opposing team twice during the season**\n",
    "- `Outcome`: Result of the match, eiter `win`, `loss`, or `tie`.\n",
    "- `OwnScore`: Number of goals scored by the Huskies.\n",
    "- `OpponentScore`: Number of goals scored by the Opposing Team.\n",
    "- `Side`: Whether the Huskies were the `home` team or `away` team.\n",
    "- `CoachID`: A unqiue identifier for the Huskies coach for this match.\n",
    "\n",
    "2) `passingevents.csv`\n",
    "\n",
    "- `MatchID`: A unqiue identifier for each match played during the season (see `matches.csv`).\n",
    "- `TeamID`: A unqiue identifier for the team involved in the pass (either `Huskies` or `OpponentID` from `matches.csv`).\n",
    "- `OriginPlayerID`: A unqiue identifier for the Player at the origin of the pass. The `PlayerID` has the form `TeamID_PlayerPosition##` where `TeamID` denotes the team on which the player plays and `PlayerPosition` reflects the player's position. Possible positions are: `F`:forward, `D`:defense, `M`:midfield, or `G`:goalkeeper\n",
    "- `DestinationPlayerID`: A unqiue identifier for the Player at the destination of the pass. (see `OriginPlayerID`)\n",
    "- `MatchPeriod`: The half in which the event took place. `1H`: first half, `2H`: second half\n",
    "- `EventTime`: The time in seconds during the `MatchPeriod` (1st or 2nd half) at which the event took place.\n",
    "- `EventSubType`: The type of pass made. Can be one of: `Head pass`, `Simple pass`, `Launch`, `High pass`, `Hand pass`, `Smart pass`, `Cross`.\n",
    "- `EventOrigin_x`: The x-coordinate on the field at which the pass originated. The x-coordinate is in the range $[0, 100]$ and is **oriented from the perspective of the attacking team**, where $0$ indicates the team's own goal, and $100$ indicates the oppositing team's goal.\n",
    "- `EventOrigin_y`: The y-coordinate on the field at which the pass originated. The y-coordinate is in the range $[0, 100]$ and is **oriented from the perspective of the attacking team**, where $0$ indicates the team's left-hand side, and $100$ indicates the team's right-hand side.\n",
    "- `EventDestination_x`: The x-coordinate on the field at the pass destination. (see `EventOrigin_x`)\n",
    "- `EventDestination_y`: The y-coordinate on the field at the pass destination.  (see `EventOrigin_y`)\n",
    "\n",
    "3) `fullevents.csv`\n",
    "\n",
    "- `MatchID`: A unqiue identifier for each match played during the season (see `matches.csv`).\n",
    "- `TeamID`: A unqiue identifier for the team involved in the pass (either `Huskies` or `OpponentID` from `matches.csv`).\n",
    "- `OriginPlayerID`: A unqiue identifier for the Player initiating the event.  The `PlayerID` has the form `TeamID_PlayerPosition##` where `TeamID` denotes the team on which the player plays and `PlayerPosition` reflects the player's position.  Possible positions are: `F`:forward, `D`:defense, `M`:midfield, or `G`:goalkeeper\n",
    "- `DestinationPlayerID`: A unqiue identifier for the Player at the destination of the event. (see `OriginPlayerID`) **NOTE: Only valid for `Pass` or `Subsition` event types, otherwise `NaN`.**\n",
    "- `MatchPeriod`: The half in which the event took place.  `1H`: first half, `2H`: second half\n",
    "- `EventTime`: The time in seconds during the `MatchPeriod` (1st or 2nd half) at which the event took place.\n",
    "- `EventType`: The type of the event. Can be one of: `Free Kick`, `Duel`, `Pass`, `Others on the ball`, `Foul`, `Goalkeeper leaving line`, `Offside`, `Save attempt`, `Shot`, `Substitution`, `Interruption`\n",
    "- `EventSubType`: The subtype of the event. Can be one of: `Goal kick`, `Air duel`, `Throw in`, `Head pass`, `Ground loose ball duel`, `Simple pass`, `Launch`, `High pass`, `Touch`, `Ground defending duel`, `Hand pass`, `Ground attacking duel`, `Foul`, `Free kick cross`, `Goalkeeper leaving line`, ` `, `Free Kick`, `Smart pass`, `Cross`, `Save attempt`, `Corner`, `Clearance`, `Shot`, `Acceleration`, `Reflexes`, `Substitution`, `Late card foul`, `Simulation`, `Free kick shot`, `Protest`, `Hand foul`, `Penalty`, `Violent Foul`, `Whistle`, `Out of game foul`, `Ball out of the field`, `Time lost foul`\n",
    "- `EventOrigin_x`: The x-coordinate on the field at which the event originated. The x-coordinate is in the range $[0, 100]$ and is **oriented from the perspective of the attacking team**, where $0$ indicates the team's own goal, and $100$ indicates the oppositing team's goal.\n",
    "- `EventOrigin_y`: The y-coordinate on the field at which the event originated. The y-coordinate is in the range $[0, 100]$ and is **oriented from the perspective of the attacking team**, where $0$ indicates the team's left-hand side, and $100$ indicates the team's right-hand side.\n",
    "- `EventDestination_x`: The x-coordinate on the field at the event destination. (see `EventOrigin_x`)\n",
    "- `EventDestination_y`: The y-coordinate on the field at the event destination. (see `EventOrigin_y`) \n",
    "\n",
    "**NOTE: For `Substitution` events, the Outgoing player is the `OriginPlayerID`, while in the incoming player is the `DestinationPlayerID`**"
   ]
  },
  {
   "cell_type": "markdown",
   "metadata": {},
   "source": [
    "## Details for `EventType`"
   ]
  },
  {
   "cell_type": "markdown",
   "metadata": {},
   "source": [
    "- Subtype of Duel: `['Air duel', 'Ground attacking duel', 'Ground defending duel', 'Ground loose ball duel']`\n",
    "- Subtype of Foul: `['Foul', 'Hand foul', 'Late card foul', 'Out of game foul', 'Protest', 'Simulation', 'Time lost foul', 'Violent Foul']`\n",
    "- Subtype of Free Kick: `['Corner', 'Free Kick', 'Free kick cross', 'Free kick shot', 'Goal kick', 'Penalty', 'Throw in']`\n",
    "- Subtype of Goalkeeper leaving line: `['Goalkeeper leaving line']`\n",
    "- Subtype of Interruption: `['Ball out of the field', 'Whistle']`\n",
    "- Subtype of Offside: `[nan]`\n",
    "- Subtype of Others on the ball: `['Acceleration', 'Clearance', 'Touch']`\n",
    "- Subtype of Pass: `['Cross', 'Hand pass', 'Head pass', 'High pass', 'Launch', 'Simple pass', 'Smart pass']`\n",
    "- Subtype of Save attempt: `['Reflexes', 'Save attempt']`\n",
    "- Subtype of Shot: `['Shot']`\n",
    "- Subtype of Substitution: `['Substitution']`"
   ]
  },
  {
   "cell_type": "markdown",
   "metadata": {},
   "source": [
    "# Attack Index"
   ]
  },
  {
   "cell_type": "markdown",
   "metadata": {
    "heading_collapsed": true
   },
   "source": [
    "# Objectives"
   ]
  },
  {
   "cell_type": "markdown",
   "metadata": {
    "hidden": true
   },
   "source": [
    "- Create a network for the ball passing between players, where each player is a node and each pass constitutes a link between players.\n",
    "    \n",
    "    Use your passing network to identify network patterns, such as **dyadic** and **triadic** configurations and team formations. Also consider other structural indicators and network properties across the games. You should explore multiple scales such as, but not limited to, micro (pairwise) to macro (all players) when looking at interactions, and time such as short (minute-to-minute) to long (entire game or entire season).\n",
    "\n",
    "\n",
    "- Identify performance indicators that reflect successful teamwork (in addition to points or wins) such as diversity in the types of plays, coordination among players or distribution of contributions.\n",
    "\n",
    "    You also may consider other team level processes, such as adaptability, flexibility, tempo,or flow. It may be important to clarify whether strategies are universally effective or dependent on opponents’ counter-strategies. Use the performance indicators and team level processes that you have identified to create a model that captures structural, configurational, and dynamical aspects of teamwork.\n",
    "\n",
    "\n",
    "- Use the insights gained from your teamwork model to inform the coach about what kinds of structural strategies have been effective for the Huskies.\n",
    "\n",
    "    Advise the coach on what changes the network analysis indicates that they should make next season to improve team success.\n",
    "\n",
    "\n",
    "- Your analysis of the Huskies has allowed you to consider group dynamics in a controlled setting of a team sport. Understanding the complex set of factors that make some groups perform better than others is critical for how societies develop and innovate. As our societies increasingly solve problems involving teams, can you generalize your findings to say something about how to design more effective teams? What other aspects of teamwork would need to be captured to develop generalized models of team performance?\n",
    "\n",
    "Your submission should consist of:\n",
    "\n",
    "- One-page Summary Sheet\n",
    "- Table of Contents\n",
    "- Your solution of no more than 20 pages, for a maximum of 22 pages with your summary and table of contents.\n",
    "\n",
    "**Note**: Reference List and any appendices do not count toward the page limit and should appear after your completed solution. You should not make use of unauthorized images and materials whose use is restricted by copyright laws. Ensure you cite the sources for your ideas and the materials used in your report."
   ]
  },
  {
   "cell_type": "markdown",
   "metadata": {
    "heading_collapsed": true
   },
   "source": [
    "# Initialization"
   ]
  },
  {
   "cell_type": "code",
   "execution_count": 1,
   "metadata": {
    "ExecuteTime": {
     "end_time": "2020-02-15T11:47:41.861442Z",
     "start_time": "2020-02-15T11:47:41.858638Z"
    },
    "hidden": true
   },
   "outputs": [],
   "source": [
    "data_matches_path = 'data/matches.csv'\n",
    "data_passings_path = 'data/passingevents.csv'\n",
    "data_events_path = 'data/fullevents.csv'"
   ]
  },
  {
   "cell_type": "code",
   "execution_count": 2,
   "metadata": {
    "ExecuteTime": {
     "end_time": "2020-02-15T11:47:42.443211Z",
     "start_time": "2020-02-15T11:47:41.865706Z"
    },
    "hidden": true
   },
   "outputs": [],
   "source": [
    "import numpy as np\n",
    "import pandas as pd\n",
    "import matplotlib.pyplot as plt\n",
    "\n",
    "%matplotlib inline\n",
    "\n",
    "import matplotlib as mpl\n",
    "mpl.rcParams['figure.dpi'] = 120"
   ]
  },
  {
   "cell_type": "code",
   "execution_count": 3,
   "metadata": {
    "ExecuteTime": {
     "end_time": "2020-02-15T11:47:42.640795Z",
     "start_time": "2020-02-15T11:47:42.444496Z"
    },
    "hidden": true
   },
   "outputs": [],
   "source": [
    "matches_df = pd.read_csv(data_matches_path)\n",
    "passings_df = pd.read_csv(data_passings_path)\n",
    "events_df = pd.read_csv(data_events_path)\n",
    "\n",
    "\n",
    "# convert 'win', 'tie' and 'lose' to int\n",
    "def outcome_int_map(x: str):\n",
    "    if x == 'win':\n",
    "        return 1\n",
    "    elif x == 'tie':\n",
    "        return 0\n",
    "    else:\n",
    "        return -1\n",
    "\n",
    "\n",
    "matches_df['Outcome'] = matches_df['Outcome'].apply(outcome_int_map)\n",
    "\n",
    "all_events = events_df.join(\n",
    "    matches_df[['OwnScore', 'OpponentScore', 'Outcome']],\n",
    "    on='MatchID',\n",
    "    how='outer')\n",
    "huskies_passes = all_events[(all_events['TeamID'] == 'Huskies')\n",
    "                            & (all_events['EventType'] == 'Pass')]\n",
    "huskies_events = all_events[all_events['TeamID'] == 'Huskies']"
   ]
  },
  {
   "cell_type": "code",
   "execution_count": 4,
   "metadata": {
    "ExecuteTime": {
     "end_time": "2020-02-15T11:47:42.971935Z",
     "start_time": "2020-02-15T11:47:42.642372Z"
    },
    "hidden": true
   },
   "outputs": [],
   "source": [
    "huskies_player_ids = np.unique(\n",
    "    huskies_events['OriginPlayerID'].tolist() +\n",
    "    huskies_events['DestinationPlayerID'].tolist()).tolist()\n",
    "huskies_player_ids.remove('nan')\n",
    "\n",
    "match_ids = np.unique(matches_df['MatchID'])"
   ]
  },
  {
   "cell_type": "markdown",
   "metadata": {
    "heading_collapsed": true
   },
   "source": [
    "# Compute metrics for a network\n",
    "\n",
    "*Defining a historic football team: Using NetworkScience to analyze Guardiola’s F.C. Barcelona*"
   ]
  },
  {
   "cell_type": "markdown",
   "metadata": {
    "hidden": true
   },
   "source": [
    "1. Number of passes"
   ]
  },
  {
   "cell_type": "code",
   "execution_count": 8,
   "metadata": {
    "ExecuteTime": {
     "end_time": "2020-02-15T11:47:43.689198Z",
     "start_time": "2020-02-15T11:47:43.593898Z"
    },
    "hidden": true
   },
   "outputs": [],
   "source": [
    "def get_n_passes(match_id: int):\n",
    "    return passings_df[(passings_df['MatchID'] == match_id)\n",
    "                       & (passings_df['TeamID'] == 'Huskies')].shape[0]"
   ]
  },
  {
   "cell_type": "markdown",
   "metadata": {
    "hidden": true
   },
   "source": [
    "2. Number of shots to goal"
   ]
  },
  {
   "cell_type": "code",
   "execution_count": 9,
   "metadata": {
    "ExecuteTime": {
     "end_time": "2020-02-15T11:47:43.789358Z",
     "start_time": "2020-02-15T11:47:43.697196Z"
    },
    "hidden": true
   },
   "outputs": [],
   "source": [
    "def get_n_shots(match_id: int):\n",
    "    return events_df[(events_df['EventType'] == 'Shot')\n",
    "                     & (events_df['MatchID'] == match_id) &\n",
    "                     (events_df['TeamID'] == 'Huskies')].shape[0]"
   ]
  },
  {
   "cell_type": "markdown",
   "metadata": {
    "hidden": true
   },
   "source": [
    "3. Number of goals"
   ]
  },
  {
   "cell_type": "code",
   "execution_count": 10,
   "metadata": {
    "ExecuteTime": {
     "end_time": "2020-02-15T11:47:43.964455Z",
     "start_time": "2020-02-15T11:47:43.792728Z"
    },
    "hidden": true
   },
   "outputs": [],
   "source": [
    "def get_score(match_id: int):\n",
    "    return matches_df[matches_df['MatchID'] ==\n",
    "                      match_id]['OwnScore'].tolist()[0]\n",
    "\n",
    "\n",
    "get_n_goals = get_score"
   ]
  },
  {
   "cell_type": "markdown",
   "metadata": {
    "hidden": true
   },
   "source": [
    "4. Number of points at the end of season\n",
    "\n",
    "NONE"
   ]
  },
  {
   "cell_type": "markdown",
   "metadata": {
    "hidden": true
   },
   "source": [
    "$X$ and $Y$ centroid coordinates correspond to the average position of all pases of the network. Specifically, we **only consider the position from where the pass is sent**"
   ]
  },
  {
   "cell_type": "markdown",
   "metadata": {
    "hidden": true
   },
   "source": [
    "5. X-coordinate of the network centroid $X$\n",
    "6. Y-coordinate of the network centroid $Y$"
   ]
  },
  {
   "cell_type": "code",
   "execution_count": 11,
   "metadata": {
    "ExecuteTime": {
     "end_time": "2020-02-15T11:47:44.354602Z",
     "start_time": "2020-02-15T11:47:43.969531Z"
    },
    "hidden": true
   },
   "outputs": [],
   "source": [
    "from typing import Tuple\n",
    "\n",
    "\n",
    "def get_centroids(match_id: int) -> Tuple[float, float]:\n",
    "    data = passings_df[(passings_df['MatchID'] == match_id)\n",
    "                       & (passings_df['TeamID'] == 'Huskies')]\n",
    "    return data['EventOrigin_x'].mean(), data['EventOrigin_y'].mean()\n",
    "\n",
    "\n",
    "def get_x_centroid(match_id: int):\n",
    "    return get_centroids(match_id)[0]\n",
    "\n",
    "\n",
    "def get_y_centroid(match_id: int):\n",
    "    return get_centroids(match_id)[1]"
   ]
  },
  {
   "cell_type": "markdown",
   "metadata": {
    "hidden": true
   },
   "source": [
    "7. Dispersion of the position of the players around the network centroid $NC_\\text{disp}$\n",
    "\n",
    "The centroid dispersion $C\\text{ent}_\\text{disp}$ corresponds to the standard deviation of the distances of the players with regard to the position of the network centroid.\n",
    "\n",
    "**FIXME: how to calculate the position of a player? Assuming the coordinates when initiating a pass**"
   ]
  },
  {
   "cell_type": "code",
   "execution_count": 12,
   "metadata": {
    "ExecuteTime": {
     "end_time": "2020-02-15T11:47:45.185185Z",
     "start_time": "2020-02-15T11:47:44.360752Z"
    },
    "hidden": true
   },
   "outputs": [],
   "source": [
    "def get_dispersion(match_id: int):\n",
    "    data = passings_df[(passings_df['MatchID'] == match_id)\n",
    "                       & (passings_df['TeamID'] == 'Huskies')]\n",
    "    cx = data['EventOrigin_x'].mean()\n",
    "    cy = data['EventOrigin_y'].mean()\n",
    "    dists = [(r['EventOrigin_x'] - cx)**2 + (r['EventOrigin_y'] - cy)**2\n",
    "             for i, r in data.iterrows()]\n",
    "    dists = np.sqrt(np.asarray(dists))\n",
    "    return np.std(dists)"
   ]
  },
  {
   "cell_type": "markdown",
   "metadata": {
    "hidden": true
   },
   "source": [
    "8. Average ratio between the passing distance parallel and perpendicular to the opponent’s goal $\\Delta y/\\Delta x$"
   ]
  },
  {
   "cell_type": "code",
   "execution_count": 13,
   "metadata": {
    "ExecuteTime": {
     "end_time": "2020-02-15T11:47:45.269812Z",
     "start_time": "2020-02-15T11:47:45.190391Z"
    },
    "hidden": true
   },
   "outputs": [],
   "source": [
    "def get_dx_div_dy(match_id: int):\n",
    "    data = passings_df[(passings_df['MatchID'] == match_id)\n",
    "                       & (passings_df['TeamID'] == 'Huskies')]\n",
    "    ratios = [\n",
    "        (r['EventDestination_y'] - r['EventOrigin_y']) /\n",
    "        (r['EventDestination_x'] - r['EventOrigin_x'] + 10**-5\n",
    "         )  # prevent divided by zero\n",
    "        for i, r in data.iterrows()\n",
    "    ]\n",
    "    return np.mean(np.asarray(ratios))"
   ]
  },
  {
   "cell_type": "markdown",
   "metadata": {
    "hidden": true
   },
   "source": [
    "## My metrics"
   ]
  },
  {
   "cell_type": "code",
   "execution_count": 14,
   "metadata": {
    "ExecuteTime": {
     "end_time": "2020-02-15T11:47:45.344749Z",
     "start_time": "2020-02-15T11:47:45.274627Z"
    },
    "hidden": true
   },
   "outputs": [],
   "source": [
    "def get_n_attempt_shots(match_id: int):\n",
    "    return get_n_shots(match_id) - get_n_goals(match_id)"
   ]
  },
  {
   "cell_type": "markdown",
   "metadata": {
    "hidden": true
   },
   "source": [
    "## Evaluation methods"
   ]
  },
  {
   "cell_type": "code",
   "execution_count": 15,
   "metadata": {
    "ExecuteTime": {
     "end_time": "2020-02-15T11:47:45.415079Z",
     "start_time": "2020-02-15T11:47:45.348351Z"
    },
    "hidden": true
   },
   "outputs": [],
   "source": [
    "def get_score_diff(match_id: int):\n",
    "    data = matches_df[matches_df['MatchID'] == match_id]\n",
    "    return data['OwnScore'].tolist()[0] - data['OpponentScore'].tolist()[0]\n",
    "\n",
    "\n",
    "def get_outcome(match_id: int):\n",
    "    return matches_df[matches_df['MatchID'] == match_id]['Outcome'].tolist()[0]"
   ]
  },
  {
   "cell_type": "markdown",
   "metadata": {
    "heading_collapsed": true
   },
   "source": [
    "# Plot metrics against evaluation"
   ]
  },
  {
   "cell_type": "code",
   "execution_count": 16,
   "metadata": {
    "ExecuteTime": {
     "end_time": "2020-02-15T11:47:45.494677Z",
     "start_time": "2020-02-15T11:47:45.420253Z"
    },
    "hidden": true
   },
   "outputs": [],
   "source": [
    "from typing import List\n",
    "\n",
    "\n",
    "def plot_metrics_against(y_func, y_name: str):\n",
    "    metric_funcs = [\n",
    "        get_n_passes, get_n_shots, get_n_goals, get_x_centroid, get_y_centroid,\n",
    "        get_dispersion, get_dx_div_dy, get_n_attempt_shots\n",
    "    ]\n",
    "    metric_names = [\n",
    "        'Number of passes', 'Number of shots', 'Number of goals',\n",
    "        r'$X$ centroid', r'$Y$ centroid', 'Dispersion',\n",
    "        r'$\\frac{\\Delta y}{\\Delta x}$', 'Attempted Shots'\n",
    "    ]\n",
    "    n = len(metric_names)\n",
    "    fig, axs = plt.subplots(4, 2)\n",
    "    fig.set_size_inches(18, 15)\n",
    "    Y = [y_func(mi) for mi in match_ids]\n",
    "    for i in range(n):\n",
    "        X = [metric_funcs[i](mi) for mi in match_ids]\n",
    "        ax_x = i // 2\n",
    "        ax_y = i % 2\n",
    "        axs[ax_x, ax_y].scatter(X, Y)\n",
    "        axs[ax_x, ax_y].set_xlabel(metric_names[i])\n",
    "        axs[ax_x, ax_y].set_ylabel(y_name)\n",
    "    fig.tight_layout()\n",
    "    fig.suptitle(\"Metrics vs. {0} in each match\".format(y_name), size=16)\n",
    "    fig.subplots_adjust(top=0.95)\n",
    "    plt.show()"
   ]
  },
  {
   "cell_type": "code",
   "execution_count": 17,
   "metadata": {
    "ExecuteTime": {
     "end_time": "2020-02-15T11:47:45.586673Z",
     "start_time": "2020-02-15T11:47:45.498343Z"
    },
    "hidden": true
   },
   "outputs": [],
   "source": [
    "# plot_metrics_against(get_score_diff, 'Score differences')"
   ]
  },
  {
   "cell_type": "code",
   "execution_count": 18,
   "metadata": {
    "ExecuteTime": {
     "end_time": "2020-02-15T11:47:45.653842Z",
     "start_time": "2020-02-15T11:47:45.591664Z"
    },
    "hidden": true
   },
   "outputs": [],
   "source": [
    "# plot_metrics_against(get_outcome, 'Score differences')"
   ]
  },
  {
   "cell_type": "code",
   "execution_count": 19,
   "metadata": {
    "ExecuteTime": {
     "end_time": "2020-02-15T11:47:45.720533Z",
     "start_time": "2020-02-15T11:47:45.660094Z"
    },
    "hidden": true
   },
   "outputs": [],
   "source": [
    "from typing import List\n",
    "\n",
    "\n",
    "def get_metrics_eval_corr(y_funcs, y_names: List[str]):\n",
    "    metric_funcs = [\n",
    "        get_n_passes, get_n_shots, get_n_goals, get_x_centroid, get_y_centroid,\n",
    "        get_dispersion, get_dx_div_dy, get_n_attempt_shots\n",
    "    ]\n",
    "    metric_names = [\n",
    "        'Number of passes', 'Number of shots', 'Number of goals', 'X centroid',\n",
    "        'Y centroid', 'Dispersion', 'dy/dx', 'Attempted Shots'\n",
    "    ]\n",
    "    df_dict = {}\n",
    "    for yf, yn in zip(y_funcs, y_names):\n",
    "        df_dict[yn] = [yf(mi) for mi in match_ids]\n",
    "\n",
    "    for xf, xn in zip(metric_funcs, metric_names):\n",
    "        df_dict[xn] = [xf(mi) for mi in match_ids]\n",
    "    df = pd.DataFrame(df_dict)\n",
    "    return df.corr()"
   ]
  },
  {
   "cell_type": "code",
   "execution_count": 20,
   "metadata": {
    "ExecuteTime": {
     "end_time": "2020-02-15T11:47:45.787572Z",
     "start_time": "2020-02-15T11:47:45.723156Z"
    },
    "hidden": true
   },
   "outputs": [],
   "source": [
    "# get_metrics_eval_corr([get_score_diff, get_outcome],\n",
    "#                       ['Score differences', 'Outcomes'])"
   ]
  },
  {
   "cell_type": "markdown",
   "metadata": {
    "heading_collapsed": true
   },
   "source": [
    "# Metrics from paper\n",
    "\n",
    "*The harsh rule of the goals: Data-driven performance indicators for football teams*"
   ]
  },
  {
   "cell_type": "markdown",
   "metadata": {
    "hidden": true
   },
   "source": [
    "1. $\\mu$: the average amount of passes managed by players (in and out) in the team during the game\n",
    "2. $\\sigma$: the variance  of the amount of passes managed by players in the team during the game. "
   ]
  },
  {
   "cell_type": "code",
   "execution_count": 21,
   "metadata": {
    "ExecuteTime": {
     "end_time": "2020-02-15T11:47:45.857972Z",
     "start_time": "2020-02-15T11:47:45.792093Z"
    },
    "hidden": true
   },
   "outputs": [],
   "source": [
    "def get_player_passes_metrics():\n",
    "    \"\"\"Calculate and return:\n",
    "    - the total number of passes,\n",
    "    - the average number of passes for players,\n",
    "    - the std of number of passes for players,\n",
    "    for every match.\n",
    "    \"\"\"\n",
    "    total_player_counts = [[\n",
    "        huskies_passes[(huskies_passes['MatchID'] == mi) & (\n",
    "            (huskies_passes['OriginPlayerID'] == hpi)\n",
    "            | (huskies_passes['DestinationPlayerID'] == hpi))].shape[0]\n",
    "        for hpi in huskies_player_ids\n",
    "    ] for mi in match_ids]\n",
    "    passes = np.asarray(total_player_counts)\n",
    "    return np.sum(passes, axis=1), np.mean(passes, axis=1), np.std(passes,\n",
    "                                                                   axis=1)"
   ]
  },
  {
   "cell_type": "code",
   "execution_count": 22,
   "metadata": {
    "ExecuteTime": {
     "end_time": "2020-02-15T11:47:48.971553Z",
     "start_time": "2020-02-15T11:47:45.863892Z"
    },
    "hidden": true,
    "scrolled": true
   },
   "outputs": [
    {
     "data": {
      "text/html": [
       "<div>\n",
       "<style scoped>\n",
       "    .dataframe tbody tr th:only-of-type {\n",
       "        vertical-align: middle;\n",
       "    }\n",
       "\n",
       "    .dataframe tbody tr th {\n",
       "        vertical-align: top;\n",
       "    }\n",
       "\n",
       "    .dataframe thead th {\n",
       "        text-align: right;\n",
       "    }\n",
       "</style>\n",
       "<table border=\"1\" class=\"dataframe\">\n",
       "  <thead>\n",
       "    <tr style=\"text-align: right;\">\n",
       "      <th></th>\n",
       "      <th>w</th>\n",
       "      <th>mu</th>\n",
       "      <th>sigma</th>\n",
       "      <th>h</th>\n",
       "      <th>Outcome</th>\n",
       "      <th>OwnScore</th>\n",
       "    </tr>\n",
       "  </thead>\n",
       "  <tbody>\n",
       "    <tr>\n",
       "      <th>w</th>\n",
       "      <td>1.000000</td>\n",
       "      <td>1.000000</td>\n",
       "      <td>0.988331</td>\n",
       "      <td>-0.920100</td>\n",
       "      <td>0.131284</td>\n",
       "      <td>-0.072945</td>\n",
       "    </tr>\n",
       "    <tr>\n",
       "      <th>mu</th>\n",
       "      <td>1.000000</td>\n",
       "      <td>1.000000</td>\n",
       "      <td>0.988331</td>\n",
       "      <td>-0.920100</td>\n",
       "      <td>0.131284</td>\n",
       "      <td>-0.072945</td>\n",
       "    </tr>\n",
       "    <tr>\n",
       "      <th>sigma</th>\n",
       "      <td>0.988331</td>\n",
       "      <td>0.988331</td>\n",
       "      <td>1.000000</td>\n",
       "      <td>-0.909304</td>\n",
       "      <td>0.183129</td>\n",
       "      <td>-0.048731</td>\n",
       "    </tr>\n",
       "    <tr>\n",
       "      <th>h</th>\n",
       "      <td>-0.920100</td>\n",
       "      <td>-0.920100</td>\n",
       "      <td>-0.909304</td>\n",
       "      <td>1.000000</td>\n",
       "      <td>-0.143148</td>\n",
       "      <td>0.035912</td>\n",
       "    </tr>\n",
       "    <tr>\n",
       "      <th>Outcome</th>\n",
       "      <td>0.131284</td>\n",
       "      <td>0.131284</td>\n",
       "      <td>0.183129</td>\n",
       "      <td>-0.143148</td>\n",
       "      <td>1.000000</td>\n",
       "      <td>0.676123</td>\n",
       "    </tr>\n",
       "    <tr>\n",
       "      <th>OwnScore</th>\n",
       "      <td>-0.072945</td>\n",
       "      <td>-0.072945</td>\n",
       "      <td>-0.048731</td>\n",
       "      <td>0.035912</td>\n",
       "      <td>0.676123</td>\n",
       "      <td>1.000000</td>\n",
       "    </tr>\n",
       "  </tbody>\n",
       "</table>\n",
       "</div>"
      ],
      "text/plain": [
       "                 w        mu     sigma         h   Outcome  OwnScore\n",
       "w         1.000000  1.000000  0.988331 -0.920100  0.131284 -0.072945\n",
       "mu        1.000000  1.000000  0.988331 -0.920100  0.131284 -0.072945\n",
       "sigma     0.988331  0.988331  1.000000 -0.909304  0.183129 -0.048731\n",
       "h        -0.920100 -0.920100 -0.909304  1.000000 -0.143148  0.035912\n",
       "Outcome   0.131284  0.131284  0.183129 -0.143148  1.000000  0.676123\n",
       "OwnScore -0.072945 -0.072945 -0.048731  0.035912  0.676123  1.000000"
      ]
     },
     "execution_count": 22,
     "metadata": {},
     "output_type": "execute_result"
    }
   ],
   "source": [
    "w, mu, sigma = get_player_passes_metrics()\n",
    "h = 1 / w + 1 / mu + 1 / sigma\n",
    "metrics_df = pd.DataFrame({'w': w, 'mu': mu, 'sigma': sigma, 'h': h})\n",
    "metrics_df = metrics_df.join(matches_df[['Outcome', 'OwnScore']])\n",
    "metrics_df.corr()"
   ]
  },
  {
   "cell_type": "code",
   "execution_count": null,
   "metadata": {
    "hidden": true
   },
   "outputs": [],
   "source": []
  }
 ],
 "metadata": {
  "kernelspec": {
   "display_name": "Python 3",
   "language": "python",
   "name": "python3"
  },
  "language_info": {
   "codemirror_mode": {
    "name": "ipython",
    "version": 3
   },
   "file_extension": ".py",
   "mimetype": "text/x-python",
   "name": "python",
   "nbconvert_exporter": "python",
   "pygments_lexer": "ipython3",
   "version": "3.6.10"
  },
  "notify_time": "10",
  "varInspector": {
   "cols": {
    "lenName": 16,
    "lenType": 16,
    "lenVar": 40
   },
   "kernels_config": {
    "python": {
     "delete_cmd_postfix": "",
     "delete_cmd_prefix": "del ",
     "library": "var_list.py",
     "varRefreshCmd": "print(var_dic_list())"
    },
    "r": {
     "delete_cmd_postfix": ") ",
     "delete_cmd_prefix": "rm(",
     "library": "var_list.r",
     "varRefreshCmd": "cat(var_dic_list()) "
    }
   },
   "position": {
    "height": "387.85px",
    "left": "25px",
    "right": "20px",
    "top": "15px",
    "width": "335px"
   },
   "types_to_exclude": [
    "module",
    "function",
    "builtin_function_or_method",
    "instance",
    "_Feature"
   ],
   "window_display": false
  }
 },
 "nbformat": 4,
 "nbformat_minor": 4
}
